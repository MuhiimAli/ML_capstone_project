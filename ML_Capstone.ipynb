{
  "nbformat": 4,
  "nbformat_minor": 0,
  "metadata": {
    "colab": {
      "provenance": []
    },
    "kernelspec": {
      "name": "python3",
      "display_name": "Python 3"
    },
    "language_info": {
      "name": "python"
    }
  },
  "cells": [
    {
      "cell_type": "code",
      "source": [
        "#imports\n",
        "import pandas as pd\n",
        "import numpy as np\n",
        "import sys\n",
        "import sklearn\n",
        "import io\n",
        "import random\n",
        "from sklearn.preprocessing import LabelEncoder\n",
        "from sklearn.preprocessing import StandardScaler\n",
        "from sklearn.preprocessing import OneHotEncoder\n",
        "from sklearn.neighbors import KNeighborsClassifier\n",
        "from sklearn.model_selection import KFold, cross_val_score\n",
        "from sklearn.metrics import accuracy_score, precision_score,recall_score, f1_score, confusion_matrix\n",
        "import seaborn as sns\n",
        "import matplotlib.pyplot as plt\n",
        "from __future__ import annotations\n",
        "from sklearn.model_selection import train_test_split\n",
        "\n",
        "from typing import Callable\n"
      ],
      "metadata": {
        "id": "TFh2M0IIhrEf"
      },
      "execution_count": 1,
      "outputs": []
    },
    {
      "cell_type": "code",
      "source": [
        "from google.colab import drive\n",
        "drive.mount('/content/drive/')"
      ],
      "metadata": {
        "colab": {
          "base_uri": "https://localhost:8080/"
        },
        "id": "R7AjuvoU0b22",
        "outputId": "4ffb5d6f-5b8a-40d8-90ad-2a3a3bb98526"
      },
      "execution_count": 2,
      "outputs": [
        {
          "output_type": "stream",
          "name": "stdout",
          "text": [
            "Drive already mounted at /content/drive/; to attempt to forcibly remount, call drive.mount(\"/content/drive/\", force_remount=True).\n"
          ]
        }
      ]
    },
    {
      "cell_type": "code",
      "source": [
        "#contains 43 feature\n",
        "column_names = [\n",
        "    'duration', 'protocol_type', 'service', 'flag', 'src_bytes', 'dst_bytes', 'land',\n",
        "    'wrong_fragment', 'urgent', 'hot', 'num_failed_logins', 'logged_in', 'num_compromised',\n",
        "    'root_shell', 'su_attempted', 'num_root', 'num_file_creations', 'num_shells',\n",
        "    'num_access_files', 'num_outbound_cmds', 'is_hot_login', 'is_guest_login', 'count',\n",
        "    'srv_count', 'serror_rate', 'srv_serror_rate', 'rerror_rate', 'srv_rerror_rate',\n",
        "    'same_srv_rate', 'diff_srv_rate', 'srv_diff_host_rate', 'dst_host_count',\n",
        "    'dst_host_srv_count', 'dst_host_same_srv_rate', 'dst_host_diff_srv_rate',\n",
        "    'dst_host_same_src_port_rate', 'dst_host_srv_diff_host_rate', 'dst_host_serror_rate',\n",
        "    'dst_host_rerror_rate', 'dst_host_srv_serror_rate', 'dst_host_srv_rerror_rate',\n",
        "    'label', 'difficulty_level'\n",
        "]\n",
        "assert len(column_names) == 43"
      ],
      "metadata": {
        "id": "ZRiEOLI2wzOR"
      },
      "execution_count": 3,
      "outputs": []
    },
    {
      "cell_type": "code",
      "source": [
        "file_path_train = '/content/drive/MyDrive/Fourth Year/spring/Classes/ML/capstone/dataset/KDDTrain+.txt'\n",
        "file_path_test = '/content/drive/MyDrive/Fourth Year/spring/Classes/ML/capstone/dataset/KDDTest+.txt'"
      ],
      "metadata": {
        "id": "AaQLI0vxzps-"
      },
      "execution_count": 4,
      "outputs": []
    },
    {
      "cell_type": "code",
      "source": [
        "df_train = pd.read_csv(file_path_train, names=column_names, header=None)\n",
        "df_test = pd.read_csv(file_path_test, names=column_names, header=None)\n"
      ],
      "metadata": {
        "id": "cxy6fkIAz8du"
      },
      "execution_count": 5,
      "outputs": []
    },
    {
      "cell_type": "code",
      "source": [
        "print(\"training set size\")\n",
        "print(len(df_train))\n",
        "print(\"test set size\")\n",
        "print(len(df_test))"
      ],
      "metadata": {
        "colab": {
          "base_uri": "https://localhost:8080/"
        },
        "id": "ZnQkDreavCRA",
        "outputId": "36fc1738-8d6b-4d19-b03f-3fd809354f5a"
      },
      "execution_count": 6,
      "outputs": [
        {
          "output_type": "stream",
          "name": "stdout",
          "text": [
            "training set size\n",
            "125973\n",
            "test set size\n",
            "22544\n"
          ]
        }
      ]
    },
    {
      "cell_type": "code",
      "source": [
        "df_train.head()\n"
      ],
      "metadata": {
        "colab": {
          "base_uri": "https://localhost:8080/",
          "height": 255
        },
        "id": "ApMSeTpf09yh",
        "outputId": "4a520ac7-9cec-43f0-b8c6-9b02a8b83be4"
      },
      "execution_count": 7,
      "outputs": [
        {
          "output_type": "execute_result",
          "data": {
            "text/plain": [
              "   duration protocol_type   service flag  src_bytes  dst_bytes  land  \\\n",
              "0         0           tcp  ftp_data   SF        491          0     0   \n",
              "1         0           udp     other   SF        146          0     0   \n",
              "2         0           tcp   private   S0          0          0     0   \n",
              "3         0           tcp      http   SF        232       8153     0   \n",
              "4         0           tcp      http   SF        199        420     0   \n",
              "\n",
              "   wrong_fragment  urgent  hot  ...  dst_host_same_srv_rate  \\\n",
              "0               0       0    0  ...                    0.17   \n",
              "1               0       0    0  ...                    0.00   \n",
              "2               0       0    0  ...                    0.10   \n",
              "3               0       0    0  ...                    1.00   \n",
              "4               0       0    0  ...                    1.00   \n",
              "\n",
              "   dst_host_diff_srv_rate  dst_host_same_src_port_rate  \\\n",
              "0                    0.03                         0.17   \n",
              "1                    0.60                         0.88   \n",
              "2                    0.05                         0.00   \n",
              "3                    0.00                         0.03   \n",
              "4                    0.00                         0.00   \n",
              "\n",
              "   dst_host_srv_diff_host_rate  dst_host_serror_rate  dst_host_rerror_rate  \\\n",
              "0                         0.00                  0.00                  0.00   \n",
              "1                         0.00                  0.00                  0.00   \n",
              "2                         0.00                  1.00                  1.00   \n",
              "3                         0.04                  0.03                  0.01   \n",
              "4                         0.00                  0.00                  0.00   \n",
              "\n",
              "   dst_host_srv_serror_rate  dst_host_srv_rerror_rate    label  \\\n",
              "0                      0.05                      0.00   normal   \n",
              "1                      0.00                      0.00   normal   \n",
              "2                      0.00                      0.00  neptune   \n",
              "3                      0.00                      0.01   normal   \n",
              "4                      0.00                      0.00   normal   \n",
              "\n",
              "   difficulty_level  \n",
              "0                20  \n",
              "1                15  \n",
              "2                19  \n",
              "3                21  \n",
              "4                21  \n",
              "\n",
              "[5 rows x 43 columns]"
            ],
            "text/html": [
              "\n",
              "  <div id=\"df-445aac08-5be2-4407-84d0-48f508f2c33b\" class=\"colab-df-container\">\n",
              "    <div>\n",
              "<style scoped>\n",
              "    .dataframe tbody tr th:only-of-type {\n",
              "        vertical-align: middle;\n",
              "    }\n",
              "\n",
              "    .dataframe tbody tr th {\n",
              "        vertical-align: top;\n",
              "    }\n",
              "\n",
              "    .dataframe thead th {\n",
              "        text-align: right;\n",
              "    }\n",
              "</style>\n",
              "<table border=\"1\" class=\"dataframe\">\n",
              "  <thead>\n",
              "    <tr style=\"text-align: right;\">\n",
              "      <th></th>\n",
              "      <th>duration</th>\n",
              "      <th>protocol_type</th>\n",
              "      <th>service</th>\n",
              "      <th>flag</th>\n",
              "      <th>src_bytes</th>\n",
              "      <th>dst_bytes</th>\n",
              "      <th>land</th>\n",
              "      <th>wrong_fragment</th>\n",
              "      <th>urgent</th>\n",
              "      <th>hot</th>\n",
              "      <th>...</th>\n",
              "      <th>dst_host_same_srv_rate</th>\n",
              "      <th>dst_host_diff_srv_rate</th>\n",
              "      <th>dst_host_same_src_port_rate</th>\n",
              "      <th>dst_host_srv_diff_host_rate</th>\n",
              "      <th>dst_host_serror_rate</th>\n",
              "      <th>dst_host_rerror_rate</th>\n",
              "      <th>dst_host_srv_serror_rate</th>\n",
              "      <th>dst_host_srv_rerror_rate</th>\n",
              "      <th>label</th>\n",
              "      <th>difficulty_level</th>\n",
              "    </tr>\n",
              "  </thead>\n",
              "  <tbody>\n",
              "    <tr>\n",
              "      <th>0</th>\n",
              "      <td>0</td>\n",
              "      <td>tcp</td>\n",
              "      <td>ftp_data</td>\n",
              "      <td>SF</td>\n",
              "      <td>491</td>\n",
              "      <td>0</td>\n",
              "      <td>0</td>\n",
              "      <td>0</td>\n",
              "      <td>0</td>\n",
              "      <td>0</td>\n",
              "      <td>...</td>\n",
              "      <td>0.17</td>\n",
              "      <td>0.03</td>\n",
              "      <td>0.17</td>\n",
              "      <td>0.00</td>\n",
              "      <td>0.00</td>\n",
              "      <td>0.00</td>\n",
              "      <td>0.05</td>\n",
              "      <td>0.00</td>\n",
              "      <td>normal</td>\n",
              "      <td>20</td>\n",
              "    </tr>\n",
              "    <tr>\n",
              "      <th>1</th>\n",
              "      <td>0</td>\n",
              "      <td>udp</td>\n",
              "      <td>other</td>\n",
              "      <td>SF</td>\n",
              "      <td>146</td>\n",
              "      <td>0</td>\n",
              "      <td>0</td>\n",
              "      <td>0</td>\n",
              "      <td>0</td>\n",
              "      <td>0</td>\n",
              "      <td>...</td>\n",
              "      <td>0.00</td>\n",
              "      <td>0.60</td>\n",
              "      <td>0.88</td>\n",
              "      <td>0.00</td>\n",
              "      <td>0.00</td>\n",
              "      <td>0.00</td>\n",
              "      <td>0.00</td>\n",
              "      <td>0.00</td>\n",
              "      <td>normal</td>\n",
              "      <td>15</td>\n",
              "    </tr>\n",
              "    <tr>\n",
              "      <th>2</th>\n",
              "      <td>0</td>\n",
              "      <td>tcp</td>\n",
              "      <td>private</td>\n",
              "      <td>S0</td>\n",
              "      <td>0</td>\n",
              "      <td>0</td>\n",
              "      <td>0</td>\n",
              "      <td>0</td>\n",
              "      <td>0</td>\n",
              "      <td>0</td>\n",
              "      <td>...</td>\n",
              "      <td>0.10</td>\n",
              "      <td>0.05</td>\n",
              "      <td>0.00</td>\n",
              "      <td>0.00</td>\n",
              "      <td>1.00</td>\n",
              "      <td>1.00</td>\n",
              "      <td>0.00</td>\n",
              "      <td>0.00</td>\n",
              "      <td>neptune</td>\n",
              "      <td>19</td>\n",
              "    </tr>\n",
              "    <tr>\n",
              "      <th>3</th>\n",
              "      <td>0</td>\n",
              "      <td>tcp</td>\n",
              "      <td>http</td>\n",
              "      <td>SF</td>\n",
              "      <td>232</td>\n",
              "      <td>8153</td>\n",
              "      <td>0</td>\n",
              "      <td>0</td>\n",
              "      <td>0</td>\n",
              "      <td>0</td>\n",
              "      <td>...</td>\n",
              "      <td>1.00</td>\n",
              "      <td>0.00</td>\n",
              "      <td>0.03</td>\n",
              "      <td>0.04</td>\n",
              "      <td>0.03</td>\n",
              "      <td>0.01</td>\n",
              "      <td>0.00</td>\n",
              "      <td>0.01</td>\n",
              "      <td>normal</td>\n",
              "      <td>21</td>\n",
              "    </tr>\n",
              "    <tr>\n",
              "      <th>4</th>\n",
              "      <td>0</td>\n",
              "      <td>tcp</td>\n",
              "      <td>http</td>\n",
              "      <td>SF</td>\n",
              "      <td>199</td>\n",
              "      <td>420</td>\n",
              "      <td>0</td>\n",
              "      <td>0</td>\n",
              "      <td>0</td>\n",
              "      <td>0</td>\n",
              "      <td>...</td>\n",
              "      <td>1.00</td>\n",
              "      <td>0.00</td>\n",
              "      <td>0.00</td>\n",
              "      <td>0.00</td>\n",
              "      <td>0.00</td>\n",
              "      <td>0.00</td>\n",
              "      <td>0.00</td>\n",
              "      <td>0.00</td>\n",
              "      <td>normal</td>\n",
              "      <td>21</td>\n",
              "    </tr>\n",
              "  </tbody>\n",
              "</table>\n",
              "<p>5 rows × 43 columns</p>\n",
              "</div>\n",
              "    <div class=\"colab-df-buttons\">\n",
              "\n",
              "  <div class=\"colab-df-container\">\n",
              "    <button class=\"colab-df-convert\" onclick=\"convertToInteractive('df-445aac08-5be2-4407-84d0-48f508f2c33b')\"\n",
              "            title=\"Convert this dataframe to an interactive table.\"\n",
              "            style=\"display:none;\">\n",
              "\n",
              "  <svg xmlns=\"http://www.w3.org/2000/svg\" height=\"24px\" viewBox=\"0 -960 960 960\">\n",
              "    <path d=\"M120-120v-720h720v720H120Zm60-500h600v-160H180v160Zm220 220h160v-160H400v160Zm0 220h160v-160H400v160ZM180-400h160v-160H180v160Zm440 0h160v-160H620v160ZM180-180h160v-160H180v160Zm440 0h160v-160H620v160Z\"/>\n",
              "  </svg>\n",
              "    </button>\n",
              "\n",
              "  <style>\n",
              "    .colab-df-container {\n",
              "      display:flex;\n",
              "      gap: 12px;\n",
              "    }\n",
              "\n",
              "    .colab-df-convert {\n",
              "      background-color: #E8F0FE;\n",
              "      border: none;\n",
              "      border-radius: 50%;\n",
              "      cursor: pointer;\n",
              "      display: none;\n",
              "      fill: #1967D2;\n",
              "      height: 32px;\n",
              "      padding: 0 0 0 0;\n",
              "      width: 32px;\n",
              "    }\n",
              "\n",
              "    .colab-df-convert:hover {\n",
              "      background-color: #E2EBFA;\n",
              "      box-shadow: 0px 1px 2px rgba(60, 64, 67, 0.3), 0px 1px 3px 1px rgba(60, 64, 67, 0.15);\n",
              "      fill: #174EA6;\n",
              "    }\n",
              "\n",
              "    .colab-df-buttons div {\n",
              "      margin-bottom: 4px;\n",
              "    }\n",
              "\n",
              "    [theme=dark] .colab-df-convert {\n",
              "      background-color: #3B4455;\n",
              "      fill: #D2E3FC;\n",
              "    }\n",
              "\n",
              "    [theme=dark] .colab-df-convert:hover {\n",
              "      background-color: #434B5C;\n",
              "      box-shadow: 0px 1px 3px 1px rgba(0, 0, 0, 0.15);\n",
              "      filter: drop-shadow(0px 1px 2px rgba(0, 0, 0, 0.3));\n",
              "      fill: #FFFFFF;\n",
              "    }\n",
              "  </style>\n",
              "\n",
              "    <script>\n",
              "      const buttonEl =\n",
              "        document.querySelector('#df-445aac08-5be2-4407-84d0-48f508f2c33b button.colab-df-convert');\n",
              "      buttonEl.style.display =\n",
              "        google.colab.kernel.accessAllowed ? 'block' : 'none';\n",
              "\n",
              "      async function convertToInteractive(key) {\n",
              "        const element = document.querySelector('#df-445aac08-5be2-4407-84d0-48f508f2c33b');\n",
              "        const dataTable =\n",
              "          await google.colab.kernel.invokeFunction('convertToInteractive',\n",
              "                                                    [key], {});\n",
              "        if (!dataTable) return;\n",
              "\n",
              "        const docLinkHtml = 'Like what you see? Visit the ' +\n",
              "          '<a target=\"_blank\" href=https://colab.research.google.com/notebooks/data_table.ipynb>data table notebook</a>'\n",
              "          + ' to learn more about interactive tables.';\n",
              "        element.innerHTML = '';\n",
              "        dataTable['output_type'] = 'display_data';\n",
              "        await google.colab.output.renderOutput(dataTable, element);\n",
              "        const docLink = document.createElement('div');\n",
              "        docLink.innerHTML = docLinkHtml;\n",
              "        element.appendChild(docLink);\n",
              "      }\n",
              "    </script>\n",
              "  </div>\n",
              "\n",
              "\n",
              "    <div id=\"df-b25852ed-24fc-4b2c-aa61-adb4bb7ad9ec\">\n",
              "      <button class=\"colab-df-quickchart\" onclick=\"quickchart('df-b25852ed-24fc-4b2c-aa61-adb4bb7ad9ec')\"\n",
              "                title=\"Suggest charts\"\n",
              "                style=\"display:none;\">\n",
              "\n",
              "<svg xmlns=\"http://www.w3.org/2000/svg\" height=\"24px\"viewBox=\"0 0 24 24\"\n",
              "     width=\"24px\">\n",
              "    <g>\n",
              "        <path d=\"M19 3H5c-1.1 0-2 .9-2 2v14c0 1.1.9 2 2 2h14c1.1 0 2-.9 2-2V5c0-1.1-.9-2-2-2zM9 17H7v-7h2v7zm4 0h-2V7h2v10zm4 0h-2v-4h2v4z\"/>\n",
              "    </g>\n",
              "</svg>\n",
              "      </button>\n",
              "\n",
              "<style>\n",
              "  .colab-df-quickchart {\n",
              "      --bg-color: #E8F0FE;\n",
              "      --fill-color: #1967D2;\n",
              "      --hover-bg-color: #E2EBFA;\n",
              "      --hover-fill-color: #174EA6;\n",
              "      --disabled-fill-color: #AAA;\n",
              "      --disabled-bg-color: #DDD;\n",
              "  }\n",
              "\n",
              "  [theme=dark] .colab-df-quickchart {\n",
              "      --bg-color: #3B4455;\n",
              "      --fill-color: #D2E3FC;\n",
              "      --hover-bg-color: #434B5C;\n",
              "      --hover-fill-color: #FFFFFF;\n",
              "      --disabled-bg-color: #3B4455;\n",
              "      --disabled-fill-color: #666;\n",
              "  }\n",
              "\n",
              "  .colab-df-quickchart {\n",
              "    background-color: var(--bg-color);\n",
              "    border: none;\n",
              "    border-radius: 50%;\n",
              "    cursor: pointer;\n",
              "    display: none;\n",
              "    fill: var(--fill-color);\n",
              "    height: 32px;\n",
              "    padding: 0;\n",
              "    width: 32px;\n",
              "  }\n",
              "\n",
              "  .colab-df-quickchart:hover {\n",
              "    background-color: var(--hover-bg-color);\n",
              "    box-shadow: 0 1px 2px rgba(60, 64, 67, 0.3), 0 1px 3px 1px rgba(60, 64, 67, 0.15);\n",
              "    fill: var(--button-hover-fill-color);\n",
              "  }\n",
              "\n",
              "  .colab-df-quickchart-complete:disabled,\n",
              "  .colab-df-quickchart-complete:disabled:hover {\n",
              "    background-color: var(--disabled-bg-color);\n",
              "    fill: var(--disabled-fill-color);\n",
              "    box-shadow: none;\n",
              "  }\n",
              "\n",
              "  .colab-df-spinner {\n",
              "    border: 2px solid var(--fill-color);\n",
              "    border-color: transparent;\n",
              "    border-bottom-color: var(--fill-color);\n",
              "    animation:\n",
              "      spin 1s steps(1) infinite;\n",
              "  }\n",
              "\n",
              "  @keyframes spin {\n",
              "    0% {\n",
              "      border-color: transparent;\n",
              "      border-bottom-color: var(--fill-color);\n",
              "      border-left-color: var(--fill-color);\n",
              "    }\n",
              "    20% {\n",
              "      border-color: transparent;\n",
              "      border-left-color: var(--fill-color);\n",
              "      border-top-color: var(--fill-color);\n",
              "    }\n",
              "    30% {\n",
              "      border-color: transparent;\n",
              "      border-left-color: var(--fill-color);\n",
              "      border-top-color: var(--fill-color);\n",
              "      border-right-color: var(--fill-color);\n",
              "    }\n",
              "    40% {\n",
              "      border-color: transparent;\n",
              "      border-right-color: var(--fill-color);\n",
              "      border-top-color: var(--fill-color);\n",
              "    }\n",
              "    60% {\n",
              "      border-color: transparent;\n",
              "      border-right-color: var(--fill-color);\n",
              "    }\n",
              "    80% {\n",
              "      border-color: transparent;\n",
              "      border-right-color: var(--fill-color);\n",
              "      border-bottom-color: var(--fill-color);\n",
              "    }\n",
              "    90% {\n",
              "      border-color: transparent;\n",
              "      border-bottom-color: var(--fill-color);\n",
              "    }\n",
              "  }\n",
              "</style>\n",
              "\n",
              "      <script>\n",
              "        async function quickchart(key) {\n",
              "          const quickchartButtonEl =\n",
              "            document.querySelector('#' + key + ' button');\n",
              "          quickchartButtonEl.disabled = true;  // To prevent multiple clicks.\n",
              "          quickchartButtonEl.classList.add('colab-df-spinner');\n",
              "          try {\n",
              "            const charts = await google.colab.kernel.invokeFunction(\n",
              "                'suggestCharts', [key], {});\n",
              "          } catch (error) {\n",
              "            console.error('Error during call to suggestCharts:', error);\n",
              "          }\n",
              "          quickchartButtonEl.classList.remove('colab-df-spinner');\n",
              "          quickchartButtonEl.classList.add('colab-df-quickchart-complete');\n",
              "        }\n",
              "        (() => {\n",
              "          let quickchartButtonEl =\n",
              "            document.querySelector('#df-b25852ed-24fc-4b2c-aa61-adb4bb7ad9ec button');\n",
              "          quickchartButtonEl.style.display =\n",
              "            google.colab.kernel.accessAllowed ? 'block' : 'none';\n",
              "        })();\n",
              "      </script>\n",
              "    </div>\n",
              "\n",
              "    </div>\n",
              "  </div>\n"
            ],
            "application/vnd.google.colaboratory.intrinsic+json": {
              "type": "dataframe",
              "variable_name": "df_train"
            }
          },
          "metadata": {},
          "execution_count": 7
        }
      ]
    },
    {
      "cell_type": "markdown",
      "source": [
        "# Step1: Preprocessing\n"
      ],
      "metadata": {
        "id": "jokH9RR4ew50"
      }
    },
    {
      "cell_type": "markdown",
      "source": [
        "citation: https://e-tarjome.com/storage/btn_uploaded/2019-07-13/1563006133_9702-etarjome-English.pdf\n"
      ],
      "metadata": {
        "id": "VzCtZqtSq2TY"
      }
    },
    {
      "cell_type": "code",
      "source": [
        "# Define attack categories and their corresponding attacks\n",
        "def map_attack_to_attact_type(attack):\n",
        "\n",
        "  dos_attacks = [\"back\", \"land\", \"neptune\", \"pod\", \"smurf\", \"teardrop\",\n",
        "                  \"apache2\", \"udpstorm\", \"processtable\", \"worm\"] #10\n",
        "\n",
        "\n",
        "  probe_attacks = [\"satan\", \"ipsweep\", \"nmap\", \"portsweep\", \"mscan\", \"saint\"] #6\n",
        "\n",
        "  r2l_attacks = [\"guess_passwd\", \"ftp_write\", \"imap\", \"phf\",\"multihop\", \"warezmaster\", \"warezclient\", \"spy\",\n",
        "                 \"xlock\", \"xsnoop\", \"snmpguess\", \"snmpgetattack\", \"httptunnel\", \"sendmail\", \"named\"] #15\n",
        "\n",
        "  u2r_attacks = [\"buffer_overflow\", \"loadmodule\", \"rootkit\", \"perl\",\n",
        "                \"sqlattack\", \"xterm\", \"ps\"] #7\n",
        "\n",
        "  attack_type = \"\"\n",
        "  if attack in dos_attacks:\n",
        "    attack_type =  \"DoS\"\n",
        "  elif attack in probe_attacks:\n",
        "    attack_type =  \"Probe\"\n",
        "  elif attack in r2l_attacks:\n",
        "    attack_type =  \"R2L\"\n",
        "  elif attack in u2r_attacks:\n",
        "    attack_type =  \"U2R\"\n",
        "  else:\n",
        "    attack_type=  \"normal\"\n",
        "  return attack_type\n",
        "\n"
      ],
      "metadata": {
        "id": "ifwlCdvEPtkh"
      },
      "execution_count": 8,
      "outputs": []
    },
    {
      "cell_type": "markdown",
      "source": [
        "##1.1: Mapping each attack to its corresponding attack type"
      ],
      "metadata": {
        "id": "lnZKMODbe3zO"
      }
    },
    {
      "cell_type": "code",
      "source": [
        "#label distribution before mapping\n",
        "print('Label distribution Training set before Mapping:')\n",
        "print(df_train['label'].value_counts())\n",
        "print()\n",
        "print('Label distribution Test set:')\n",
        "print(df_test['label'].value_counts())"
      ],
      "metadata": {
        "colab": {
          "base_uri": "https://localhost:8080/"
        },
        "id": "FalWHmVggFkz",
        "outputId": "45062328-5638-4fe4-bab8-4e8d74498ded"
      },
      "execution_count": 9,
      "outputs": [
        {
          "output_type": "stream",
          "name": "stdout",
          "text": [
            "Label distribution Training set before Mapping:\n",
            "label\n",
            "normal             67343\n",
            "neptune            41214\n",
            "satan               3633\n",
            "ipsweep             3599\n",
            "portsweep           2931\n",
            "smurf               2646\n",
            "nmap                1493\n",
            "back                 956\n",
            "teardrop             892\n",
            "warezclient          890\n",
            "pod                  201\n",
            "guess_passwd          53\n",
            "buffer_overflow       30\n",
            "warezmaster           20\n",
            "land                  18\n",
            "imap                  11\n",
            "rootkit               10\n",
            "loadmodule             9\n",
            "ftp_write              8\n",
            "multihop               7\n",
            "phf                    4\n",
            "perl                   3\n",
            "spy                    2\n",
            "Name: count, dtype: int64\n",
            "\n",
            "Label distribution Test set:\n",
            "label\n",
            "normal             9711\n",
            "neptune            4657\n",
            "guess_passwd       1231\n",
            "mscan               996\n",
            "warezmaster         944\n",
            "apache2             737\n",
            "satan               735\n",
            "processtable        685\n",
            "smurf               665\n",
            "back                359\n",
            "snmpguess           331\n",
            "saint               319\n",
            "mailbomb            293\n",
            "snmpgetattack       178\n",
            "portsweep           157\n",
            "ipsweep             141\n",
            "httptunnel          133\n",
            "nmap                 73\n",
            "pod                  41\n",
            "buffer_overflow      20\n",
            "multihop             18\n",
            "named                17\n",
            "ps                   15\n",
            "sendmail             14\n",
            "xterm                13\n",
            "rootkit              13\n",
            "teardrop             12\n",
            "xlock                 9\n",
            "land                  7\n",
            "xsnoop                4\n",
            "ftp_write             3\n",
            "loadmodule            2\n",
            "worm                  2\n",
            "perl                  2\n",
            "sqlattack             2\n",
            "udpstorm              2\n",
            "phf                   2\n",
            "imap                  1\n",
            "Name: count, dtype: int64\n"
          ]
        }
      ]
    },
    {
      "cell_type": "code",
      "source": [
        "#transform the label column so it only contains 5 categories, which represent the different attack types: dos, prob, r2l, u2r, normal\n",
        "transformed_label_col_train = df_train.label.apply(map_attack_to_attact_type)\n",
        "df_train['label'] = transformed_label_col_train\n",
        "print(df_train.index)\n",
        "\n",
        "#for test\n",
        "transformed_label_col_test = df_test.label.apply(map_attack_to_attact_type)\n",
        "df_test['label'] = transformed_label_col_test\n",
        "\n"
      ],
      "metadata": {
        "id": "5Sn9GQz7mAQy",
        "colab": {
          "base_uri": "https://localhost:8080/"
        },
        "outputId": "f82513c6-9af9-4216-9f28-04c7a031d14c"
      },
      "execution_count": 10,
      "outputs": [
        {
          "output_type": "stream",
          "name": "stdout",
          "text": [
            "RangeIndex(start=0, stop=125973, step=1)\n"
          ]
        }
      ]
    },
    {
      "cell_type": "code",
      "source": [
        "#label distribution after mapping each attack to its attack type\n",
        "print('Label distribution Training set:')\n",
        "print(df_train['label'].value_counts())\n",
        "print()\n",
        "print('Label distribution Test set:')\n",
        "print(df_test['label'].value_counts())\n",
        "print(\"shape\", df_train.shape)\n",
        "\n",
        "\n",
        "\n",
        "#TODO: ADD\n",
        "# Visualize label distribution\n",
        "plt.figure(figsize=(12, 5))\n",
        "df_train['label'].value_counts().plot(kind='bar',\n",
        "                                           title='Attack Types Distribution in Training Set')"
      ],
      "metadata": {
        "colab": {
          "base_uri": "https://localhost:8080/",
          "height": 852
        },
        "id": "yrKj_LAvtMSO",
        "outputId": "dd5463d6-4478-49d5-da19-0c76a0837e2a"
      },
      "execution_count": 11,
      "outputs": [
        {
          "output_type": "stream",
          "name": "stdout",
          "text": [
            "Label distribution Training set:\n",
            "label\n",
            "normal    67343\n",
            "DoS       45927\n",
            "Probe     11656\n",
            "R2L         995\n",
            "U2R          52\n",
            "Name: count, dtype: int64\n",
            "\n",
            "Label distribution Test set:\n",
            "label\n",
            "normal    10004\n",
            "DoS        7167\n",
            "R2L        2885\n",
            "Probe      2421\n",
            "U2R          67\n",
            "Name: count, dtype: int64\n",
            "shape (125973, 43)\n"
          ]
        },
        {
          "output_type": "execute_result",
          "data": {
            "text/plain": [
              "<Axes: title={'center': 'Attack Types Distribution in Training Set'}, xlabel='label'>"
            ]
          },
          "metadata": {},
          "execution_count": 11
        },
        {
          "output_type": "display_data",
          "data": {
            "text/plain": [
              "<Figure size 1200x500 with 1 Axes>"
            ],
            "image/png": "[encoded data removed]"
          },
          "metadata": {}
        }
      ]
    },
    {
      "cell_type": "markdown",
      "source": [
        "##1.2: Preprocessing Each Feature Type\n",
        "There are three feature type: Categorical, binary and numerical. To make our classifier work well, our goal is to put each feature type in the range 0-1. We will accomplish this by using one hot encoding for the cateogirlca features, leave the binary features unchanged and normalize the numerical features using the normal distribution."
      ],
      "metadata": {
        "id": "ZO9FX1znfGY7"
      }
    },
    {
      "cell_type": "code",
      "source": [
        "categorical_cols = ['protocol_type', 'service', 'flag']\n",
        "print(\"\\nCategorical columns:\", len(categorical_cols))\n",
        "binary_cols = [\"land\", \"logged_in\",\"root_shell\", \"su_attempted\", \"is_hot_login\",\"is_guest_login\"]\n",
        "print(len(binary_cols))\n",
        "numerical_cols = [col for col in df_train.columns if col not in\n",
        "                 categorical_cols + binary_cols + ['label', 'difficulty_level']]\n",
        "print(len(numerical_cols))\n",
        "assert len(numerical_cols)==32\n"
      ],
      "metadata": {
        "id": "AKfwzJwxw_1R",
        "colab": {
          "base_uri": "https://localhost:8080/"
        },
        "outputId": "e637fad1-9d22-4932-e005-9d71bc138646"
      },
      "execution_count": 12,
      "outputs": [
        {
          "output_type": "stream",
          "name": "stdout",
          "text": [
            "\n",
            "Categorical columns: 3\n",
            "6\n",
            "32\n"
          ]
        }
      ]
    },
    {
      "cell_type": "markdown",
      "source": [
        "###1.2.1: Transforming categorical features using one hot encoding\n",
        "We are going to use sklearn's one hot encoder."
      ],
      "metadata": {
        "id": "yQ3OErq6hPSt"
      }
    },
    {
      "cell_type": "code",
      "source": [
        "# Initialize the encoder\n",
        "encoder = OneHotEncoder(sparse_output=False, handle_unknown='ignore')\n",
        "\n",
        "# Fit the encoder only on training data\n",
        "encoder.fit(df_train[categorical_cols])\n",
        "\n",
        "# Transform both training and test data\n",
        "train_encoded = encoder.transform(df_train[categorical_cols])\n",
        "test_encoded = encoder.transform(df_test[categorical_cols])\n",
        "\n",
        "# Create DataFrames with the encoded features\n",
        "feature_names = encoder.get_feature_names_out(categorical_cols)\n",
        "train_encoded_df = pd.DataFrame(train_encoded, columns=feature_names, index=df_train.index)\n",
        "test_encoded_df = pd.DataFrame(test_encoded, columns=feature_names, index=df_test.index)\n",
        "\n",
        "# print(\"index 0\",  df_train[0])\n",
        "# print(df_train.index)\n",
        "\n",
        "print(\"\\nShape after one-hot encoding (categorical columns):\", train_encoded_df.shape)\n"
      ],
      "metadata": {
        "colab": {
          "base_uri": "https://localhost:8080/"
        },
        "id": "yGj8nrOdj6iP",
        "outputId": "76ad690e-9738-46de-b296-ef0a5bd45258"
      },
      "execution_count": 13,
      "outputs": [
        {
          "output_type": "stream",
          "name": "stdout",
          "text": [
            "\n",
            "Shape after one-hot encoding (categorical columns): (125973, 84)\n"
          ]
        }
      ]
    },
    {
      "cell_type": "markdown",
      "source": [
        "##1.2.2: Normalizing Numerical Features\n"
      ],
      "metadata": {
        "id": "aw3dZtSBvaaW"
      }
    },
    {
      "cell_type": "code",
      "source": [
        "# Initialize the scaler\n",
        "scaler = StandardScaler()\n",
        "\n",
        "# Fit the scaler only on training data\n",
        "scaler.fit(df_train[numerical_cols])\n",
        "\n",
        "# Transform both training and test data\n",
        "train_scaled = scaler.transform(df_train[numerical_cols])\n",
        "test_scaled = scaler.transform(df_test[numerical_cols])\n",
        "\n",
        "# Create DataFrames with the scaled features\n",
        "train_scaled_df = pd.DataFrame(train_scaled, columns=numerical_cols, index=df_train.index)\n",
        "test_scaled_df = pd.DataFrame(test_scaled, columns=numerical_cols, index=df_test.index)\n"
      ],
      "metadata": {
        "id": "0Q3DOoPmvMjC"
      },
      "execution_count": 14,
      "outputs": []
    },
    {
      "cell_type": "markdown",
      "source": [
        "##1.2.3: Preprocessing Binary features\n",
        "The binary features will be unchanged."
      ],
      "metadata": {
        "id": "Yd3oT5XyzjFh"
      }
    },
    {
      "cell_type": "code",
      "source": [
        "df_train[binary_cols].head()"
      ],
      "metadata": {
        "colab": {
          "base_uri": "https://localhost:8080/",
          "height": 206
        },
        "id": "F9qXRWFE0V-W",
        "outputId": "74a71698-1535-4547-e490-222c86508cfe"
      },
      "execution_count": 15,
      "outputs": [
        {
          "output_type": "execute_result",
          "data": {
            "text/plain": [
              "   land  logged_in  root_shell  su_attempted  is_hot_login  is_guest_login\n",
              "0     0          0           0             0             0               0\n",
              "1     0          0           0             0             0               0\n",
              "2     0          0           0             0             0               0\n",
              "3     0          1           0             0             0               0\n",
              "4     0          1           0             0             0               0"
            ],
            "text/html": [
              "\n",
              "  <div id=\"df-edd228f5-673b-47c4-851b-843b2d0eec56\" class=\"colab-df-container\">\n",
              "    <div>\n",
              "<style scoped>\n",
              "    .dataframe tbody tr th:only-of-type {\n",
              "        vertical-align: middle;\n",
              "    }\n",
              "\n",
              "    .dataframe tbody tr th {\n",
              "        vertical-align: top;\n",
              "    }\n",
              "\n",
              "    .dataframe thead th {\n",
              "        text-align: right;\n",
              "    }\n",
              "</style>\n",
              "<table border=\"1\" class=\"dataframe\">\n",
              "  <thead>\n",
              "    <tr style=\"text-align: right;\">\n",
              "      <th></th>\n",
              "      <th>land</th>\n",
              "      <th>logged_in</th>\n",
              "      <th>root_shell</th>\n",
              "      <th>su_attempted</th>\n",
              "      <th>is_hot_login</th>\n",
              "      <th>is_guest_login</th>\n",
              "    </tr>\n",
              "  </thead>\n",
              "  <tbody>\n",
              "    <tr>\n",
              "      <th>0</th>\n",
              "      <td>0</td>\n",
              "      <td>0</td>\n",
              "      <td>0</td>\n",
              "      <td>0</td>\n",
              "      <td>0</td>\n",
              "      <td>0</td>\n",
              "    </tr>\n",
              "    <tr>\n",
              "      <th>1</th>\n",
              "      <td>0</td>\n",
              "      <td>0</td>\n",
              "      <td>0</td>\n",
              "      <td>0</td>\n",
              "      <td>0</td>\n",
              "      <td>0</td>\n",
              "    </tr>\n",
              "    <tr>\n",
              "      <th>2</th>\n",
              "      <td>0</td>\n",
              "      <td>0</td>\n",
              "      <td>0</td>\n",
              "      <td>0</td>\n",
              "      <td>0</td>\n",
              "      <td>0</td>\n",
              "    </tr>\n",
              "    <tr>\n",
              "      <th>3</th>\n",
              "      <td>0</td>\n",
              "      <td>1</td>\n",
              "      <td>0</td>\n",
              "      <td>0</td>\n",
              "      <td>0</td>\n",
              "      <td>0</td>\n",
              "    </tr>\n",
              "    <tr>\n",
              "      <th>4</th>\n",
              "      <td>0</td>\n",
              "      <td>1</td>\n",
              "      <td>0</td>\n",
              "      <td>0</td>\n",
              "      <td>0</td>\n",
              "      <td>0</td>\n",
              "    </tr>\n",
              "  </tbody>\n",
              "</table>\n",
              "</div>\n",
              "    <div class=\"colab-df-buttons\">\n",
              "\n",
              "  <div class=\"colab-df-container\">\n",
              "    <button class=\"colab-df-convert\" onclick=\"convertToInteractive('df-edd228f5-673b-47c4-851b-843b2d0eec56')\"\n",
              "            title=\"Convert this dataframe to an interactive table.\"\n",
              "            style=\"display:none;\">\n",
              "\n",
              "  <svg xmlns=\"http://www.w3.org/2000/svg\" height=\"24px\" viewBox=\"0 -960 960 960\">\n",
              "    <path d=\"M120-120v-720h720v720H120Zm60-500h600v-160H180v160Zm220 220h160v-160H400v160Zm0 220h160v-160H400v160ZM180-400h160v-160H180v160Zm440 0h160v-160H620v160ZM180-180h160v-160H180v160Zm440 0h160v-160H620v160Z\"/>\n",
              "  </svg>\n",
              "    </button>\n",
              "\n",
              "  <style>\n",
              "    .colab-df-container {\n",
              "      display:flex;\n",
              "      gap: 12px;\n",
              "    }\n",
              "\n",
              "    .colab-df-convert {\n",
              "      background-color: #E8F0FE;\n",
              "      border: none;\n",
              "      border-radius: 50%;\n",
              "      cursor: pointer;\n",
              "      display: none;\n",
              "      fill: #1967D2;\n",
              "      height: 32px;\n",
              "      padding: 0 0 0 0;\n",
              "      width: 32px;\n",
              "    }\n",
              "\n",
              "    .colab-df-convert:hover {\n",
              "      background-color: #E2EBFA;\n",
              "      box-shadow: 0px 1px 2px rgba(60, 64, 67, 0.3), 0px 1px 3px 1px rgba(60, 64, 67, 0.15);\n",
              "      fill: #174EA6;\n",
              "    }\n",
              "\n",
              "    .colab-df-buttons div {\n",
              "      margin-bottom: 4px;\n",
              "    }\n",
              "\n",
              "    [theme=dark] .colab-df-convert {\n",
              "      background-color: #3B4455;\n",
              "      fill: #D2E3FC;\n",
              "    }\n",
              "\n",
              "    [theme=dark] .colab-df-convert:hover {\n",
              "      background-color: #434B5C;\n",
              "      box-shadow: 0px 1px 3px 1px rgba(0, 0, 0, 0.15);\n",
              "      filter: drop-shadow(0px 1px 2px rgba(0, 0, 0, 0.3));\n",
              "      fill: #FFFFFF;\n",
              "    }\n",
              "  </style>\n",
              "\n",
              "    <script>\n",
              "      const buttonEl =\n",
              "        document.querySelector('#df-edd228f5-673b-47c4-851b-843b2d0eec56 button.colab-df-convert');\n",
              "      buttonEl.style.display =\n",
              "        google.colab.kernel.accessAllowed ? 'block' : 'none';\n",
              "\n",
              "      async function convertToInteractive(key) {\n",
              "        const element = document.querySelector('#df-edd228f5-673b-47c4-851b-843b2d0eec56');\n",
              "        const dataTable =\n",
              "          await google.colab.kernel.invokeFunction('convertToInteractive',\n",
              "                                                    [key], {});\n",
              "        if (!dataTable) return;\n",
              "\n",
              "        const docLinkHtml = 'Like what you see? Visit the ' +\n",
              "          '<a target=\"_blank\" href=https://colab.research.google.com/notebooks/data_table.ipynb>data table notebook</a>'\n",
              "          + ' to learn more about interactive tables.';\n",
              "        element.innerHTML = '';\n",
              "        dataTable['output_type'] = 'display_data';\n",
              "        await google.colab.output.renderOutput(dataTable, element);\n",
              "        const docLink = document.createElement('div');\n",
              "        docLink.innerHTML = docLinkHtml;\n",
              "        element.appendChild(docLink);\n",
              "      }\n",
              "    </script>\n",
              "  </div>\n",
              "\n",
              "\n",
              "    <div id=\"df-6549a40e-896e-427a-a266-1fbc98f0a64c\">\n",
              "      <button class=\"colab-df-quickchart\" onclick=\"quickchart('df-6549a40e-896e-427a-a266-1fbc98f0a64c')\"\n",
              "                title=\"Suggest charts\"\n",
              "                style=\"display:none;\">\n",
              "\n",
              "<svg xmlns=\"http://www.w3.org/2000/svg\" height=\"24px\"viewBox=\"0 0 24 24\"\n",
              "     width=\"24px\">\n",
              "    <g>\n",
              "        <path d=\"M19 3H5c-1.1 0-2 .9-2 2v14c0 1.1.9 2 2 2h14c1.1 0 2-.9 2-2V5c0-1.1-.9-2-2-2zM9 17H7v-7h2v7zm4 0h-2V7h2v10zm4 0h-2v-4h2v4z\"/>\n",
              "    </g>\n",
              "</svg>\n",
              "      </button>\n",
              "\n",
              "<style>\n",
              "  .colab-df-quickchart {\n",
              "      --bg-color: #E8F0FE;\n",
              "      --fill-color: #1967D2;\n",
              "      --hover-bg-color: #E2EBFA;\n",
              "      --hover-fill-color: #174EA6;\n",
              "      --disabled-fill-color: #AAA;\n",
              "      --disabled-bg-color: #DDD;\n",
              "  }\n",
              "\n",
              "  [theme=dark] .colab-df-quickchart {\n",
              "      --bg-color: #3B4455;\n",
              "      --fill-color: #D2E3FC;\n",
              "      --hover-bg-color: #434B5C;\n",
              "      --hover-fill-color: #FFFFFF;\n",
              "      --disabled-bg-color: #3B4455;\n",
              "      --disabled-fill-color: #666;\n",
              "  }\n",
              "\n",
              "  .colab-df-quickchart {\n",
              "    background-color: var(--bg-color);\n",
              "    border: none;\n",
              "    border-radius: 50%;\n",
              "    cursor: pointer;\n",
              "    display: none;\n",
              "    fill: var(--fill-color);\n",
              "    height: 32px;\n",
              "    padding: 0;\n",
              "    width: 32px;\n",
              "  }\n",
              "\n",
              "  .colab-df-quickchart:hover {\n",
              "    background-color: var(--hover-bg-color);\n",
              "    box-shadow: 0 1px 2px rgba(60, 64, 67, 0.3), 0 1px 3px 1px rgba(60, 64, 67, 0.15);\n",
              "    fill: var(--button-hover-fill-color);\n",
              "  }\n",
              "\n",
              "  .colab-df-quickchart-complete:disabled,\n",
              "  .colab-df-quickchart-complete:disabled:hover {\n",
              "    background-color: var(--disabled-bg-color);\n",
              "    fill: var(--disabled-fill-color);\n",
              "    box-shadow: none;\n",
              "  }\n",
              "\n",
              "  .colab-df-spinner {\n",
              "    border: 2px solid var(--fill-color);\n",
              "    border-color: transparent;\n",
              "    border-bottom-color: var(--fill-color);\n",
              "    animation:\n",
              "      spin 1s steps(1) infinite;\n",
              "  }\n",
              "\n",
              "  @keyframes spin {\n",
              "    0% {\n",
              "      border-color: transparent;\n",
              "      border-bottom-color: var(--fill-color);\n",
              "      border-left-color: var(--fill-color);\n",
              "    }\n",
              "    20% {\n",
              "      border-color: transparent;\n",
              "      border-left-color: var(--fill-color);\n",
              "      border-top-color: var(--fill-color);\n",
              "    }\n",
              "    30% {\n",
              "      border-color: transparent;\n",
              "      border-left-color: var(--fill-color);\n",
              "      border-top-color: var(--fill-color);\n",
              "      border-right-color: var(--fill-color);\n",
              "    }\n",
              "    40% {\n",
              "      border-color: transparent;\n",
              "      border-right-color: var(--fill-color);\n",
              "      border-top-color: var(--fill-color);\n",
              "    }\n",
              "    60% {\n",
              "      border-color: transparent;\n",
              "      border-right-color: var(--fill-color);\n",
              "    }\n",
              "    80% {\n",
              "      border-color: transparent;\n",
              "      border-right-color: var(--fill-color);\n",
              "      border-bottom-color: var(--fill-color);\n",
              "    }\n",
              "    90% {\n",
              "      border-color: transparent;\n",
              "      border-bottom-color: var(--fill-color);\n",
              "    }\n",
              "  }\n",
              "</style>\n",
              "\n",
              "      <script>\n",
              "        async function quickchart(key) {\n",
              "          const quickchartButtonEl =\n",
              "            document.querySelector('#' + key + ' button');\n",
              "          quickchartButtonEl.disabled = true;  // To prevent multiple clicks.\n",
              "          quickchartButtonEl.classList.add('colab-df-spinner');\n",
              "          try {\n",
              "            const charts = await google.colab.kernel.invokeFunction(\n",
              "                'suggestCharts', [key], {});\n",
              "          } catch (error) {\n",
              "            console.error('Error during call to suggestCharts:', error);\n",
              "          }\n",
              "          quickchartButtonEl.classList.remove('colab-df-spinner');\n",
              "          quickchartButtonEl.classList.add('colab-df-quickchart-complete');\n",
              "        }\n",
              "        (() => {\n",
              "          let quickchartButtonEl =\n",
              "            document.querySelector('#df-6549a40e-896e-427a-a266-1fbc98f0a64c button');\n",
              "          quickchartButtonEl.style.display =\n",
              "            google.colab.kernel.accessAllowed ? 'block' : 'none';\n",
              "        })();\n",
              "      </script>\n",
              "    </div>\n",
              "\n",
              "    </div>\n",
              "  </div>\n"
            ],
            "application/vnd.google.colaboratory.intrinsic+json": {
              "type": "dataframe",
              "summary": "{\n  \"name\": \"df_train[binary_cols]\",\n  \"rows\": 5,\n  \"fields\": [\n    {\n      \"column\": \"land\",\n      \"properties\": {\n        \"dtype\": \"number\",\n        \"std\": 0,\n        \"min\": 0,\n        \"max\": 0,\n        \"num_unique_values\": 1,\n        \"samples\": [\n          0\n        ],\n        \"semantic_type\": \"\",\n        \"description\": \"\"\n      }\n    },\n    {\n      \"column\": \"logged_in\",\n      \"properties\": {\n        \"dtype\": \"number\",\n        \"std\": 0,\n        \"min\": 0,\n        \"max\": 1,\n        \"num_unique_values\": 2,\n        \"samples\": [\n          1\n        ],\n        \"semantic_type\": \"\",\n        \"description\": \"\"\n      }\n    },\n    {\n      \"column\": \"root_shell\",\n      \"properties\": {\n        \"dtype\": \"number\",\n        \"std\": 0,\n        \"min\": 0,\n        \"max\": 0,\n        \"num_unique_values\": 1,\n        \"samples\": [\n          0\n        ],\n        \"semantic_type\": \"\",\n        \"description\": \"\"\n      }\n    },\n    {\n      \"column\": \"su_attempted\",\n      \"properties\": {\n        \"dtype\": \"number\",\n        \"std\": 0,\n        \"min\": 0,\n        \"max\": 0,\n        \"num_unique_values\": 1,\n        \"samples\": [\n          0\n        ],\n        \"semantic_type\": \"\",\n        \"description\": \"\"\n      }\n    },\n    {\n      \"column\": \"is_hot_login\",\n      \"properties\": {\n        \"dtype\": \"number\",\n        \"std\": 0,\n        \"min\": 0,\n        \"max\": 0,\n        \"num_unique_values\": 1,\n        \"samples\": [\n          0\n        ],\n        \"semantic_type\": \"\",\n        \"description\": \"\"\n      }\n    },\n    {\n      \"column\": \"is_guest_login\",\n      \"properties\": {\n        \"dtype\": \"number\",\n        \"std\": 0,\n        \"min\": 0,\n        \"max\": 0,\n        \"num_unique_values\": 1,\n        \"samples\": [\n          0\n        ],\n        \"semantic_type\": \"\",\n        \"description\": \"\"\n      }\n    }\n  ]\n}"
            }
          },
          "metadata": {},
          "execution_count": 15
        }
      ]
    },
    {
      "cell_type": "markdown",
      "source": [
        "##1.2.4: Combine all preprocessed features For training data"
      ],
      "metadata": {
        "id": "SvW2oLPR1LqR"
      }
    },
    {
      "cell_type": "code",
      "source": [
        "X_train = pd.concat([\n",
        "    train_encoded_df,                           # One-hot encoded categorical features\n",
        "    df_train[binary_cols],  # Binary features (unchanged)\n",
        "    train_scaled_df                             # Scaled numerical features\n",
        "], axis=1)\n",
        "\n",
        "# For test data\n",
        "X_test = pd.concat([\n",
        "    test_encoded_df,                           # One-hot encoded categorical features\n",
        "    df_test[binary_cols],  # Binary features (unchanged)\n",
        "    test_scaled_df                             # Scaled numerical features\n",
        "], axis=1)\n",
        "print(\"X_train shape\", X_train.shape)\n",
        "print(\"X_test shape\", X_test.shape)"
      ],
      "metadata": {
        "colab": {
          "base_uri": "https://localhost:8080/"
        },
        "id": "SMRZOA34P-Aq",
        "outputId": "ba091856-c44e-4ec2-f1dd-06f2674a551a"
      },
      "execution_count": 16,
      "outputs": [
        {
          "output_type": "stream",
          "name": "stdout",
          "text": [
            "X_train shape (125973, 122)\n",
            "X_test shape (22544, 122)\n"
          ]
        }
      ]
    },
    {
      "cell_type": "markdown",
      "source": [
        "##1.2.5 Prepare target values"
      ],
      "metadata": {
        "id": "3USHSK_DRZ0O"
      }
    },
    {
      "cell_type": "code",
      "source": [
        "label_encoder = LabelEncoder()\n",
        "label_encoder.fit(df_train['label'])\n",
        "\n",
        "y_train = label_encoder.transform(df_train['label'])\n",
        "y_test = label_encoder.transform(df_test['label'])\n",
        "\n",
        "print(\"y_train shape\", y_train.shape)\n",
        "print(\"y_test shape\", y_test.shape)"
      ],
      "metadata": {
        "colab": {
          "base_uri": "https://localhost:8080/"
        },
        "id": "KIaOm54JRhAq",
        "outputId": "097ce30e-a228-4efc-b35c-c43dc7827eff"
      },
      "execution_count": 17,
      "outputs": [
        {
          "output_type": "stream",
          "name": "stdout",
          "text": [
            "y_train shape (125973,)\n",
            "y_test shape (22544,)\n"
          ]
        }
      ]
    },
    {
      "cell_type": "code",
      "source": [
        "def binarize_features(X, threshold=0.3):\n",
        "    \"\"\"Convert continuous features to binary using a threshold.\"\"\"\n",
        "    return (X > threshold).astype(int)\n",
        "\n",
        "# Binarize features if needed for Bernoulli Naive Bayes\n",
        "X_train_binary = binarize_features(X_train).to_numpy()\n",
        "X_test_binary = binarize_features(X_test).to_numpy()\n",
        "\n",
        "print(\"\\nBinarized feature shapes:\")\n",
        "print(\"X_train_binary shape:\", X_train_binary.shape)\n",
        "print(\"X_test_binary shape:\", X_test_binary.shape)\n",
        "\n",
        "# print(X_train[0])"
      ],
      "metadata": {
        "colab": {
          "base_uri": "https://localhost:8080/"
        },
        "id": "XHFuemqoUdiV",
        "outputId": "4504d346-25b4-4f1e-f4ca-3f1f8ef71a60"
      },
      "execution_count": 18,
      "outputs": [
        {
          "output_type": "stream",
          "name": "stdout",
          "text": [
            "\n",
            "Binarized feature shapes:\n",
            "X_train_binary shape: (125973, 122)\n",
            "X_test_binary shape: (22544, 122)\n"
          ]
        }
      ]
    },
    {
      "cell_type": "markdown",
      "source": [
        "#Step2: Implementing Naive Bayes Algorithm"
      ],
      "metadata": {
        "id": "Jsl0tdGv0wj0"
      }
    },
    {
      "cell_type": "code",
      "source": [
        "class NaiveBayes(object):\n",
        "    \"\"\"Bernoulli Naive Bayes model\n",
        "\n",
        "    Parameters\n",
        "    ----------\n",
        "    n_classes : int\n",
        "        The number of classes.\n",
        "\n",
        "    Attributes\n",
        "    ----------\n",
        "    n_classes: int\n",
        "        The number of classes.\n",
        "    attr_dist: np.ndarray\n",
        "        2D (n_classes x n_attributes) NumPy array of the attribute distributions\n",
        "    label_priors: np.nparray\n",
        "        1D NumPy array of the priors distribution\n",
        "    \"\"\"\n",
        "\n",
        "    def __init__(self, n_classes: int) -> None:\n",
        "        \"\"\"\n",
        "        Constructor for NaiveBayes model with n_classes.\n",
        "        \"\"\"\n",
        "        self.n_classes = n_classes\n",
        "        self.attr_dist = None\n",
        "        self.label_priors = None\n",
        "\n",
        "    def train(\n",
        "        self, X_train: np.ndarray, y_train: np.ndarray\n",
        "    ) -> tuple[np.ndarray, np.ndarray]:\n",
        "        \"\"\"\n",
        "        Trains the model using maximum likelihood estimation.\n",
        "\n",
        "        Parameters\n",
        "        ----------\n",
        "        X_train: np.ndarray\n",
        "            a 2D (n_examples x n_attributes) numpy array\n",
        "        y_train: np.ndarray\n",
        "            a 1D (n_examples) numpy array\n",
        "\n",
        "        Returns\n",
        "        -------\n",
        "        tuple[np.ndarray, np.ndarray]\n",
        "            A tuple consisting of:\n",
        "                1) a 2D numpy array of the attribute distributions\n",
        "                2) a 1D numpy array of the priors distribution\n",
        "        \"\"\"\n",
        "\n",
        "        # TODO: calculate and set self.label_priors using class counts (consider smoothing)\n",
        "        # TODO: calculate and set self.attr_dist (consider smoothing)\n",
        "        # pass\n",
        "        n_examples, n_attributes = X_train.shape\n",
        "\n",
        "\n",
        "        self.attr_dist = np.zeros((self.n_classes, n_attributes))  # Initialize attribute distribution\n",
        "        self.label_priors = np.zeros(self.n_classes) # Initialize priors\n",
        "\n",
        "        # count the number of each class\n",
        "        class_counts = np.zeros(self.n_classes)\n",
        "        for label in y_train:\n",
        "            class_counts[label] += 1\n",
        "\n",
        "        # calculate and set self.label_priors using class counts (consider smoothing)\n",
        "        self.label_priors = (class_counts + 1) / (n_examples + self.n_classes)\n",
        "\n",
        "        # calculate and set self.attr_dist (consider smoothing)\n",
        "        for c in range(self.n_classes):\n",
        "            class_examples = X_train[y_train == c]\n",
        "\n",
        "            if len(class_examples) > 0:\n",
        "                self.attr_dist[c] = (np.sum(class_examples, axis=0) + 1) / (len(class_examples) + 2)\n",
        "\n",
        "        return self.attr_dist, self.label_priors\n",
        "\n",
        "    def predict(self, inputs: np.ndarray) -> np.ndarray:\n",
        "        \"\"\"Outputs a predicted label for each input in inputs.\n",
        "\n",
        "        Parameters\n",
        "        ----------\n",
        "        inputs: np.ndarray\n",
        "            a 2D NumPy array containing inputs\n",
        "\n",
        "        Returns\n",
        "        -------\n",
        "        np.ndarray\n",
        "            a 1D numpy array of predictions\n",
        "        \"\"\"\n",
        "\n",
        "        # pass\n",
        "        n_examples = inputs.shape[0]\n",
        "        preds = np.zeros(n_examples, dtype=int)\n",
        "        # print(\"preds:\", preds)\n",
        "\n",
        "\n",
        "        for i in range(n_examples):\n",
        "            example = inputs[i]\n",
        "\n",
        "\n",
        "\n",
        "            log_probs = np.log(self.label_priors) #log probabilities\n",
        "\n",
        "            for c in range(self.n_classes):\n",
        "                presence = example == 1\n",
        "                absence = example == 0\n",
        "\n",
        "\n",
        "                log_probs[c] += np.sum(np.log(self.attr_dist[c][presence]))\n",
        "                log_probs[c] += np.sum(np.log(1 - self.attr_dist[c][absence]))\n",
        "\n",
        "            # Choose class with highest probability\n",
        "            preds[i] = np.argmax(log_probs) #class with highest probability\n",
        "        return preds\n",
        "\n",
        "    def accuracy(self, X_test: np.ndarray, y_test: np.ndarray) -> float:\n",
        "        \"\"\"Outputs the accuracy of the trained model on a given dataset (data).\n",
        "\n",
        "        Parameters\n",
        "        ----------\n",
        "        X_test: np.ndarray\n",
        "            a 2D numpy array of examples\n",
        "        y_test: np.ndarray\n",
        "            a 1D numpy array of labels\n",
        "\n",
        "        Returns\n",
        "        -------\n",
        "        float\n",
        "            a float number indicating accuracy (between 0 and 1)\n",
        "        \"\"\"\n",
        "        # # TODO: Add your solution code here.\n",
        "        # pass\n",
        "        preds = self.predict(X_test)\n",
        "        correct = np.sum(preds == y_test)\n",
        "        return correct / len(y_test)\n",
        "\n",
        "\n"
      ],
      "metadata": {
        "id": "KrcE7B_naWyf"
      },
      "execution_count": 19,
      "outputs": []
    },
    {
      "cell_type": "code",
      "source": [
        "model = NaiveBayes(5)\n",
        "\n",
        "model.train(X_train_binary, y_train)\n",
        "nb_preds = model.predict(X_test_binary)\n",
        "accuracy = accuracy_score(y_test, nb_preds)\n",
        "precision = precision_score(y_test, nb_preds, average='weighted')\n",
        "recall = recall_score(y_test, nb_preds, average='weighted')\n",
        "f1 = f1_score(y_test, nb_preds, average='weighted')\n",
        "\n",
        "print(\"Accuracy:\", accuracy)\n",
        "print(\"Precision:\", precision)\n",
        "print(\"Recall:\", recall)\n",
        "print(\"f1:\", f1)\n",
        "\n",
        "print(\"------------------------------------------------------------\")\n",
        "\n",
        "print(\"Train accuracy:\")\n",
        "print(model.accuracy(X_train_binary, y_train))\n",
        "\n",
        "print(\"------------------------------------------------------------\")\n",
        "\n",
        "print(\"Test accuracy:\")\n",
        "print(model.accuracy(X_test_binary, y_test))\n",
        "\n",
        "print(\"------------------------------------------------------------\")"
      ],
      "metadata": {
        "colab": {
          "base_uri": "https://localhost:8080/"
        },
        "id": "6Q60feS0HJso",
        "outputId": "4691a79f-3948-42f9-8ea4-b23cb6177925"
      },
      "execution_count": 20,
      "outputs": [
        {
          "output_type": "stream",
          "name": "stdout",
          "text": [
            "Accuracy: 0.6869233498935415\n",
            "Precision: 0.7724345319528632\n",
            "Recall: 0.6869233498935415\n",
            "f1: 0.6619203779304744\n",
            "------------------------------------------------------------\n",
            "Train accuracy:\n",
            "0.8540401514610274\n",
            "------------------------------------------------------------\n",
            "Test accuracy:\n",
            "0.6869233498935415\n",
            "------------------------------------------------------------\n"
          ]
        }
      ]
    },
    {
      "cell_type": "markdown",
      "source": [
        "#Step3: Implementing K-Nearest Neighbor"
      ],
      "metadata": {
        "id": "_ULWKFh-SCZV"
      }
    },
    {
      "cell_type": "code",
      "source": [
        "#Train KNN\n",
        "knn = KNeighborsClassifier(n_neighbors=7)\n",
        "knn.fit(X_train, y_train)\n",
        "knn_preds = knn.predict(X_test)\n",
        "\n",
        "accuracy = accuracy_score(y_test, knn_preds)\n",
        "precision = precision_score(y_test, knn_preds, average='weighted')\n",
        "recall = recall_score(y_test, knn_preds, average='weighted')\n",
        "f1 = f1_score(y_test, knn_preds, average='weighted')\n",
        "\n",
        "print(\"Accuracy:\", accuracy)\n",
        "print(\"Precision:\", precision)\n",
        "print(\"Recall:\", recall)\n",
        "print(\"f1:\", f1)\n"
      ],
      "metadata": {
        "colab": {
          "base_uri": "https://localhost:8080/"
        },
        "id": "R7Q-C0mOSBl2",
        "outputId": "2ae7c81a-4507-40b4-e0bd-fcc136c4d934"
      },
      "execution_count": 21,
      "outputs": [
        {
          "output_type": "stream",
          "name": "stdout",
          "text": [
            "Accuracy: 0.7767476933995742\n",
            "Precision: 0.8238043882159742\n",
            "Recall: 0.7767476933995742\n",
            "f1: 0.7355199707137654\n"
          ]
        }
      ]
    },
    {
      "cell_type": "markdown",
      "source": [
        "# Step4: Implementing Neural Network"
      ],
      "metadata": {
        "id": "y8hwc3gpc49m"
      }
    },
    {
      "cell_type": "markdown",
      "source": [
        "We'll implement a two-layer neural network with improved training and evaluation"
      ],
      "metadata": {
        "id": "oJSYVUyruh8I"
      }
    },
    {
      "cell_type": "code",
      "source": [
        "def l2_loss(predictions, Y):\n",
        "    \"\"\"Computes L2 loss (sum squared loss)\"\"\"\n",
        "    difference = predictions - Y\n",
        "    return np.sum(difference ** 2)\n",
        "\n",
        "def sigmoid(a):\n",
        "    \"\"\"Sigmoid function with numerical stability\"\"\"\n",
        "    return np.where(a >= 0,\n",
        "                    1 / (1 + np.exp(-a)),\n",
        "                    np.exp(a) / (1 + np.exp(a)))\n",
        "\n",
        "def sigmoid_derivative(a):\n",
        "    \"\"\"First derivative of the sigmoid function\"\"\"\n",
        "    sig_a = sigmoid(a)\n",
        "    return sig_a * (1 - sig_a)"
      ],
      "metadata": {
        "id": "nOu4SfTvc9vm"
      },
      "execution_count": 22,
      "outputs": []
    },
    {
      "cell_type": "code",
      "source": [
        "import numpy as np\n",
        "from scipy.special import softmax\n",
        "import numpy as np\n",
        "from sklearn.utils.class_weight import compute_class_weight\n",
        "from sklearn.metrics import classification_report\n",
        "import matplotlib.pyplot as plt\n",
        "\n",
        "class TwoLayerNN:\n",
        "    \"\"\"\n",
        "    Two layer neural network for classification with cross-entropy loss\n",
        "    and softmax output activation.\n",
        "    \"\"\"\n",
        "\n",
        "    def __init__(\n",
        "        self,\n",
        "        input_size,\n",
        "        hidden_size,\n",
        "        output_size,\n",
        "        activation=lambda x: 1/(1+np.exp(-x)),  # Sigmoid\n",
        "        activation_derivative=lambda x: x*(1-x),  # Sigmoid derivative\n",
        "        learning_rate=0.01,\n",
        "        epochs=25,\n",
        "        batch_size=32\n",
        "    ):\n",
        "        self.activation = activation\n",
        "        self.activation_derivative = activation_derivative\n",
        "        self.hidden_size = hidden_size\n",
        "        self.output_size = output_size\n",
        "        self.learning_rate = learning_rate\n",
        "        self.epochs = epochs\n",
        "        self.batch_size = batch_size\n",
        "\n",
        "        # Xavier initialization\n",
        "        self.W01 = np.random.randn(hidden_size, input_size) * np.sqrt(2./(input_size + hidden_size))\n",
        "        self.b1 = np.zeros(hidden_size)\n",
        "        self.W12 = np.random.randn(output_size, hidden_size) * np.sqrt(2./(hidden_size + output_size))\n",
        "        self.b2 = np.zeros(output_size)\n",
        "\n",
        "    def train(self, X, Y, X_val=None, Y_val=None, print_loss=True):\n",
        "        train_losses = []\n",
        "        val_losses = []\n",
        "        n_samples = X.shape[0]\n",
        "\n",
        "        # Convert labels to one-hot encoding\n",
        "        Y_onehot = np.eye(self.output_size)[Y]\n",
        "        Y_val_onehot = np.eye(self.output_size)[Y_val] if Y_val is not None else None\n",
        "\n",
        "        for epoch in range(self.epochs):\n",
        "            # Shuffle data\n",
        "            indices = np.random.permutation(n_samples)\n",
        "            X_shuffled = X[indices]\n",
        "            Y_shuffled = Y_onehot[indices]\n",
        "\n",
        "            # Mini-batch training\n",
        "            for i in range(0, n_samples, self.batch_size):\n",
        "                X_batch = X_shuffled[i:i+self.batch_size]\n",
        "                Y_batch = Y_shuffled[i:i+self.batch_size]\n",
        "\n",
        "                # Forward pass\n",
        "                a1, o1, a2, o2 = self._forward_batch(X_batch)\n",
        "\n",
        "                # Backward pass\n",
        "                dW01, db1, dW12, db2 = self._backward_batch(X_batch, Y_batch, a1, o1, a2, o2)\n",
        "\n",
        "                # Update weights\n",
        "                self.W01 -= self.learning_rate * dW01\n",
        "                self.b1 -= self.learning_rate * db1\n",
        "                self.W12 -= self.learning_rate * dW12\n",
        "                self.b2 -= self.learning_rate * db2\n",
        "\n",
        "            # Calculate losses\n",
        "            train_loss = self._compute_loss(X, Y_onehot)\n",
        "            train_losses.append(train_loss)\n",
        "\n",
        "            if X_val is not None and Y_val is not None:\n",
        "                val_loss = self._compute_loss(X_val, Y_val_onehot)\n",
        "                val_losses.append(val_loss)\n",
        "                if print_loss:\n",
        "                    print(f\"Epoch {epoch}: Train Loss {train_loss:.4f} | Val Loss {val_loss:.4f}\")\n",
        "            elif print_loss:\n",
        "                print(f\"Epoch {epoch}: Train Loss {train_loss:.4f}\")\n",
        "\n",
        "        return train_losses, val_losses\n",
        "\n",
        "    def _forward_batch(self, X):\n",
        "        a1 = X @ self.W01.T + self.b1\n",
        "        o1 = self.activation(a1)\n",
        "        a2 = o1 @ self.W12.T + self.b2\n",
        "        # Stable softmax\n",
        "        max_a2 = np.max(a2, axis=1, keepdims=True)\n",
        "        exp_a2 = np.exp(a2 - max_a2)\n",
        "        o2 = exp_a2 / np.sum(exp_a2, axis=1, keepdims=True)\n",
        "        return a1, o1, a2, o2\n",
        "\n",
        "    def _backward_batch(self, X, Y, a1, o1, a2, o2):\n",
        "        batch_size = X.shape[0]\n",
        "\n",
        "        # Output error (cross-entropy derivative)\n",
        "        error = (o2 - Y) / batch_size\n",
        "\n",
        "        # Hidden layer gradients\n",
        "        dW12 = error.T @ o1\n",
        "        db2 = np.sum(error, axis=0)\n",
        "\n",
        "        # Propagate error back\n",
        "        hidden_error = error @ self.W12 * self.activation_derivative(o1)\n",
        "\n",
        "        # Input layer gradients\n",
        "        dW01 = hidden_error.T @ X\n",
        "        db1 = np.sum(hidden_error, axis=0)\n",
        "\n",
        "        return dW01, db1, dW12, db2\n",
        "\n",
        "    def _compute_loss(self, X, Y_onehot):\n",
        "        _, _, _, o2 = self._forward_batch(X)\n",
        "        # Cross-entropy loss\n",
        "        return -np.mean(Y_onehot * np.log(o2 + 1e-10))\n",
        "\n",
        "    def predict(self, X):\n",
        "        _, _, _, o2 = self._forward_batch(X)\n",
        "        return np.argmax(o2, axis=1)\n",
        "\n",
        "    def predict_proba(self, X):\n",
        "        _, _, _, o2 = self._forward_batch(X)\n",
        "        return o2\n",
        "    def evaluate(self, X, y):\n",
        "        y_pred = self.predict(X)\n",
        "        print(classification_report(y, y_pred, zero_division=0))\n",
        "        return y_pred"
      ],
      "metadata": {
        "id": "aQ8vrPj9e8pL"
      },
      "execution_count": 48,
      "outputs": []
    },
    {
      "cell_type": "code",
      "source": [
        "# Initialize network for 5-class classification\n",
        "# X_train, X_val, y_train, y_val = train_test_split(X_train, y_train, test_size=0.2, stratify=y_train)\n",
        "input_size = X_train.shape[1]\n",
        "hidden_size = 64\n",
        "output_size = 5\n",
        "\n",
        "model = TwoLayerNN(\n",
        "    input_size=input_size,\n",
        "    hidden_size=hidden_size,\n",
        "    output_size=output_size,\n",
        "    learning_rate=0.01,\n",
        "    epochs=50\n",
        ")\n",
        "\n",
        "input_size = X_train.shape[1]\n",
        "model = TwoLayerNN(\n",
        "    input_size=input_size,\n",
        "    hidden_size=128,\n",
        "    output_size=len(np.unique(y_train)),\n",
        "    learning_rate=0.001,\n",
        "    epochs=50,\n",
        "    batch_size=128\n",
        ")\n",
        "\n",
        "# Train with validation\n",
        "train_loss, val_loss = model.train(X_train.to_numpy(), y_train, X_test.to_numpy(), y_test)\n",
        "\n",
        "# Evaluate\n",
        "nn_preds = model.evaluate(X_test.to_numpy(), y_test)\n",
        "# probs = model.predict_proba(X_test)"
      ],
      "metadata": {
        "colab": {
          "base_uri": "https://localhost:8080/"
        },
        "id": "jDyfFXEZfEAk",
        "outputId": "08d1b8b9-e8b5-439f-8c56-e676e35cb2ff"
      },
      "execution_count": 50,
      "outputs": [
        {
          "output_type": "stream",
          "name": "stdout",
          "text": [
            "Epoch 0: Train Loss 0.1735 | Val Loss 0.2598\n",
            "Epoch 1: Train Loss 0.1474 | Val Loss 0.2530\n",
            "Epoch 2: Train Loss 0.1300 | Val Loss 0.2467\n",
            "Epoch 3: Train Loss 0.1173 | Val Loss 0.2421\n",
            "Epoch 4: Train Loss 0.1075 | Val Loss 0.2378\n",
            "Epoch 5: Train Loss 0.0998 | Val Loss 0.2343\n",
            "Epoch 6: Train Loss 0.0935 | Val Loss 0.2315\n",
            "Epoch 7: Train Loss 0.0884 | Val Loss 0.2288\n",
            "Epoch 8: Train Loss 0.0840 | Val Loss 0.2268\n",
            "Epoch 9: Train Loss 0.0803 | Val Loss 0.2247\n",
            "Epoch 10: Train Loss 0.0771 | Val Loss 0.2232\n",
            "Epoch 11: Train Loss 0.0742 | Val Loss 0.2219\n",
            "Epoch 12: Train Loss 0.0717 | Val Loss 0.2205\n",
            "Epoch 13: Train Loss 0.0695 | Val Loss 0.2190\n",
            "Epoch 14: Train Loss 0.0674 | Val Loss 0.2176\n",
            "Epoch 15: Train Loss 0.0656 | Val Loss 0.2166\n",
            "Epoch 16: Train Loss 0.0639 | Val Loss 0.2157\n",
            "Epoch 17: Train Loss 0.0623 | Val Loss 0.2147\n",
            "Epoch 18: Train Loss 0.0609 | Val Loss 0.2138\n",
            "Epoch 19: Train Loss 0.0596 | Val Loss 0.2128\n",
            "Epoch 20: Train Loss 0.0584 | Val Loss 0.2120\n",
            "Epoch 21: Train Loss 0.0573 | Val Loss 0.2113\n",
            "Epoch 22: Train Loss 0.0562 | Val Loss 0.2106\n",
            "Epoch 23: Train Loss 0.0552 | Val Loss 0.2094\n",
            "Epoch 24: Train Loss 0.0543 | Val Loss 0.2092\n",
            "Epoch 25: Train Loss 0.0535 | Val Loss 0.2086\n",
            "Epoch 26: Train Loss 0.0527 | Val Loss 0.2082\n",
            "Epoch 27: Train Loss 0.0519 | Val Loss 0.2073\n",
            "Epoch 28: Train Loss 0.0512 | Val Loss 0.2065\n",
            "Epoch 29: Train Loss 0.0505 | Val Loss 0.2063\n",
            "Epoch 30: Train Loss 0.0499 | Val Loss 0.2059\n",
            "Epoch 31: Train Loss 0.0493 | Val Loss 0.2055\n",
            "Epoch 32: Train Loss 0.0487 | Val Loss 0.2052\n",
            "Epoch 33: Train Loss 0.0482 | Val Loss 0.2047\n",
            "Epoch 34: Train Loss 0.0477 | Val Loss 0.2043\n",
            "Epoch 35: Train Loss 0.0472 | Val Loss 0.2042\n",
            "Epoch 36: Train Loss 0.0467 | Val Loss 0.2039\n",
            "Epoch 37: Train Loss 0.0463 | Val Loss 0.2036\n",
            "Epoch 38: Train Loss 0.0459 | Val Loss 0.2033\n",
            "Epoch 39: Train Loss 0.0455 | Val Loss 0.2031\n",
            "Epoch 40: Train Loss 0.0451 | Val Loss 0.2027\n",
            "Epoch 41: Train Loss 0.0447 | Val Loss 0.2022\n",
            "Epoch 42: Train Loss 0.0444 | Val Loss 0.2022\n",
            "Epoch 43: Train Loss 0.0441 | Val Loss 0.2025\n",
            "Epoch 44: Train Loss 0.0437 | Val Loss 0.2023\n",
            "Epoch 45: Train Loss 0.0434 | Val Loss 0.2018\n",
            "Epoch 46: Train Loss 0.0431 | Val Loss 0.2015\n",
            "Epoch 47: Train Loss 0.0428 | Val Loss 0.2014\n",
            "Epoch 48: Train Loss 0.0426 | Val Loss 0.2013\n",
            "Epoch 49: Train Loss 0.0423 | Val Loss 0.2014\n",
            "              precision    recall  f1-score   support\n",
            "\n",
            "           0       0.89      0.75      0.81      7167\n",
            "           1       0.88      0.75      0.81      2421\n",
            "           2       0.00      0.00      0.00      2885\n",
            "           3       0.00      0.00      0.00        67\n",
            "           4       0.65      0.94      0.77     10004\n",
            "\n",
            "    accuracy                           0.74     22544\n",
            "   macro avg       0.48      0.49      0.48     22544\n",
            "weighted avg       0.67      0.74      0.69     22544\n",
            "\n"
          ]
        }
      ]
    },
    {
      "cell_type": "code",
      "source": [
        "accuracy = accuracy_score(y_test, nn_preds)\n",
        "precision = precision_score(y_test, nn_preds, average='weighted')\n",
        "recall = recall_score(y_test, nn_preds, average='weighted')\n",
        "f1 = f1_score(y_test, nn_preds, average='weighted')\n",
        "\n",
        "print(\"Accuracy:\", accuracy)\n",
        "print(\"Precision:\", precision)\n",
        "print(\"Recall:\", recall)\n",
        "print(\"f1:\", f1)"
      ],
      "metadata": {
        "colab": {
          "base_uri": "https://localhost:8080/"
        },
        "id": "lEQ4m1Cp-6t6",
        "outputId": "e280e800-3a82-490e-e186-f4d647d3771e"
      },
      "execution_count": 51,
      "outputs": [
        {
          "output_type": "stream",
          "name": "stdout",
          "text": [
            "Accuracy: 0.7350958126330731\n",
            "Precision: 0.6652705378266424\n",
            "Recall: 0.7350958126330731\n",
            "f1: 0.6861213697176538\n"
          ]
        },
        {
          "output_type": "stream",
          "name": "stderr",
          "text": [
            "/usr/local/lib/python3.11/dist-packages/sklearn/metrics/_classification.py:1565: UndefinedMetricWarning: Precision is ill-defined and being set to 0.0 in labels with no predicted samples. Use `zero_division` parameter to control this behavior.\n",
            "  _warn_prf(average, modifier, f\"{metric.capitalize()} is\", len(result))\n"
          ]
        }
      ]
    },
    {
      "cell_type": "markdown",
      "source": [
        "#Model Comparison\n",
        "Let's compare the performance of our implemented models."
      ],
      "metadata": {
        "id": "AWEI2KFlvlDj"
      }
    },
    {
      "cell_type": "code",
      "source": [
        "\n",
        "\n",
        "# Evaluation metrics\n",
        "def evaluate_model(name, preds, y_true=y_test):\n",
        "    acc = accuracy_score(y_true, preds)\n",
        "    cm = confusion_matrix(y_true, preds)\n",
        "\n",
        "    print(f\"{name} Accuracy: {acc:.4f}\")\n",
        "    plt.figure(figsize=(8,6))\n",
        "    sns.heatmap(cm, annot=True, fmt='d', xticklabels=label_encoder.classes_, yticklabels=label_encoder.classes_)\n",
        "    plt.title(f'{name} Confusion Matrix')\n",
        "    plt.show()\n",
        "\n",
        "evaluate_model('Naive Bayes', nb_preds)\n",
        "evaluate_model('KNN', knn_preds)\n",
        "evaluate_model('Neural Network', nn_preds)"
      ],
      "metadata": {
        "id": "tCswO8MrvDk5",
        "colab": {
          "base_uri": "https://localhost:8080/",
          "height": 1000
        },
        "outputId": "41df350e-76d9-4d50-f248-2251a71fe6e4"
      },
      "execution_count": 52,
      "outputs": [
        {
          "output_type": "stream",
          "name": "stdout",
          "text": [
            "Naive Bayes Accuracy: 0.6869\n"
          ]
        },
        {
          "output_type": "display_data",
          "data": {
            "text/plain": [
              "<Figure size 800x600 with 2 Axes>"
            ],
            "image/png": "[encoded data removed]"
          },
          "metadata": {}
        },
        {
          "output_type": "stream",
          "name": "stdout",
          "text": [
            "KNN Accuracy: 0.7767\n"
          ]
        },
        {
          "output_type": "display_data",
          "data": {
            "text/plain": [
              "<Figure size 800x600 with 2 Axes>"
            ],
            "image/png": "[encoded data removed]"
          },
          "metadata": {}
        },
        {
          "output_type": "stream",
          "name": "stdout",
          "text": [
            "Neural Network Accuracy: 0.7351\n"
          ]
        },
        {
          "output_type": "display_data",
          "data": {
            "text/plain": [
              "<Figure size 800x600 with 2 Axes>"
            ],
            "image/png": "[encoded data removed]"
          },
          "metadata": {}
        }
      ]
    }
  ]
}